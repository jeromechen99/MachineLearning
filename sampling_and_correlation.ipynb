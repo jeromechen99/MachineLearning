{
  "nbformat": 4,
  "nbformat_minor": 0,
  "metadata": {
    "colab": {
      "provenance": [],
      "authorship_tag": "ABX9TyPEIXxhTsfQ9GY5yRYJQYJm",
      "include_colab_link": true
    },
    "kernelspec": {
      "name": "python3",
      "display_name": "Python 3"
    },
    "language_info": {
      "name": "python"
    }
  },
  "cells": [
    {
      "cell_type": "markdown",
      "metadata": {
        "id": "view-in-github",
        "colab_type": "text"
      },
      "source": [
        "<a href=\"https://colab.research.google.com/github/jeromechen99/MachineLearning/blob/master/sampling_and_correlation.ipynb\" target=\"_parent\"><img src=\"https://colab.research.google.com/assets/colab-badge.svg\" alt=\"Open In Colab\"/></a>"
      ]
    },
    {
      "cell_type": "code",
      "execution_count": 2,
      "metadata": {
        "id": "g7weyXfZkA1p"
      },
      "outputs": [],
      "source": [
        "import numpy as np\n",
        "import scipy.stats as stats\n",
        "import pandas as pd\n",
        "import matplotlib.pyplot as plt\n",
        "import seaborn as sbn\n",
        "sbn.set_style(\"white\") # get rid of seaborn grid lines\n",
        "%matplotlib inline\n",
        "np.random.seed(20160410)\n"
      ]
    },
    {
      "cell_type": "code",
      "source": [
        "# generate bivariate normal data for uncorrelated variables\n",
        "# See the docs on scipy.stats.multivariate_normal\n",
        "\n",
        "# bivariate mean\n",
        "mean = [0,0]  \n",
        "\n",
        "# covariance matrix\n",
        "cov = np.array([[1,0],\n",
        "                [0,1]])\n",
        "\n",
        "sample = stats.multivariate_normal.rvs(mean=mean, cov=cov, size=30)\n",
        "sbn.jointplot(sample[:,0], sample[:,1])\n",
        "print(\"Correlation matrix:\\n\", np.corrcoef(sample, rowvar=False, ddof=1))\n"
      ],
      "metadata": {
        "colab": {
          "base_uri": "https://localhost:8080/",
          "height": 583
        },
        "id": "EW53SW_smyGC",
        "outputId": "a5a182ff-8cd7-4b42-e1cf-4bf31eebdd7f"
      },
      "execution_count": 3,
      "outputs": [
        {
          "output_type": "stream",
          "name": "stderr",
          "text": [
            "/usr/local/lib/python3.7/dist-packages/seaborn/_decorators.py:43: FutureWarning: Pass the following variables as keyword args: x, y. From version 0.12, the only valid positional argument will be `data`, and passing other arguments without an explicit keyword will result in an error or misinterpretation.\n",
            "  FutureWarning\n",
            "/usr/local/lib/python3.7/dist-packages/ipykernel_launcher.py:13: DeprecationWarning: bias and ddof have no effect and are deprecated\n",
            "  del sys.path[0]\n"
          ]
        },
        {
          "output_type": "stream",
          "name": "stdout",
          "text": [
            "Correlation matrix:\n",
            " [[ 1.         -0.29396167]\n",
            " [-0.29396167  1.        ]]\n"
          ]
        },
        {
          "output_type": "display_data",
          "data": {
            "text/plain": [
              "<Figure size 432x432 with 3 Axes>"
            ],
            "image/png": "[encoded data removed]"
          },
          "metadata": {
            "needs_background": "light"
          }
        }
      ]
    },
    {
      "cell_type": "code",
      "source": [
        "mean = [0,0]\n",
        "cov = [[1,0],\n",
        "       [0,1]]\n",
        "ssize = 30\n",
        "nsims = 2500\n",
        "\n",
        "cors = []\n",
        "for n in range(nsims):\n",
        "    sample = stats.multivariate_normal.rvs(mean=mean, cov=cov, size=ssize)\n",
        "    r = np.corrcoef(sample, rowvar=False, ddof=1)[0,1]\n",
        "    cors.append(r)\n",
        "sbn.distplot(cors)\n",
        "pass\n",
        "\n",
        "mean = [0,0]\n",
        "cov = [[1,0.9],\n",
        "       [0.9,1]]\n",
        "ssize = 30\n",
        "nsims = 2500\n",
        "\n",
        "cors090 = []\n",
        "for n in range(nsims):\n",
        "    sample = stats.multivariate_normal.rvs(mean=mean, cov=cov, size=ssize)\n",
        "    r = np.corrcoef(sample, rowvar=False, ddof=1)[0,1]\n",
        "    cors090.append(r)\n",
        "    \n",
        "sbn.distplot(cors090)\n",
        "pass\n",
        "\n",
        "# plot for sampling distribution when pho = 0.9\n",
        "# using Fisher's transformation\n",
        "sbn.distplot(np.arctanh(cors090))\n",
        "print(\"\")\n",
        "pass"
      ],
      "metadata": {
        "colab": {
          "base_uri": "https://localhost:8080/",
          "height": 459
        },
        "id": "AmqB1dEym-og",
        "outputId": "495c0996-6fcf-4af3-e074-a8ab6a65fd53"
      },
      "execution_count": 4,
      "outputs": [
        {
          "output_type": "stream",
          "name": "stderr",
          "text": [
            "/usr/local/lib/python3.7/dist-packages/ipykernel_launcher.py:10: DeprecationWarning: bias and ddof have no effect and are deprecated\n",
            "  # Remove the CWD from sys.path while we load stuff.\n",
            "/usr/local/lib/python3.7/dist-packages/seaborn/distributions.py:2619: FutureWarning: `distplot` is a deprecated function and will be removed in a future version. Please adapt your code to use either `displot` (a figure-level function with similar flexibility) or `histplot` (an axes-level function for histograms).\n",
            "  warnings.warn(msg, FutureWarning)\n",
            "/usr/local/lib/python3.7/dist-packages/ipykernel_launcher.py:24: DeprecationWarning: bias and ddof have no effect and are deprecated\n",
            "/usr/local/lib/python3.7/dist-packages/seaborn/distributions.py:2619: FutureWarning: `distplot` is a deprecated function and will be removed in a future version. Please adapt your code to use either `displot` (a figure-level function with similar flexibility) or `histplot` (an axes-level function for histograms).\n",
            "  warnings.warn(msg, FutureWarning)\n",
            "/usr/local/lib/python3.7/dist-packages/seaborn/distributions.py:2619: FutureWarning: `distplot` is a deprecated function and will be removed in a future version. Please adapt your code to use either `displot` (a figure-level function with similar flexibility) or `histplot` (an axes-level function for histograms).\n",
            "  warnings.warn(msg, FutureWarning)\n"
          ]
        },
        {
          "output_type": "stream",
          "name": "stdout",
          "text": [
            "\n"
          ]
        },
        {
          "output_type": "display_data",
          "data": {
            "text/plain": [
              "<Figure size 432x288 with 1 Axes>"
            ],
            "image/png": "[encoded data removed]"
          },
          "metadata": {
            "needs_background": "light"
          }
        }
      ]
    },
    {
      "cell_type": "code",
      "source": [
        "def correlationCI(r, n, alpha=0.05):\n",
        "    mu = np.arctanh(r)\n",
        "    sigma = 1.0/np.sqrt(n-3)\n",
        "    z = stats.norm.ppf(alpha/2)\n",
        "    left = np.tanh(mu) - z*sigma\n",
        "    right = np.tanh(mu) + z*sigma\n",
        "    return (left, right)\n",
        "correlationCI(0, 30)\n",
        "\n",
        "ssizes = np.arange(10,250,step=10)\n",
        "cis = []\n",
        "for i in ssizes:\n",
        "    cis.append(correlationCI(0, i)[0])\n",
        "\n",
        "plt.plot(ssizes, cis, '-o')\n",
        "plt.xlabel(\"Sample size\")\n",
        "plt.ylabel(\"Half-width of CI\")\n",
        "plt.title(r\"\"\"Half-width of CIs for $\\rho=0$\n",
        "as as function of sample size\"\"\")\n",
        "\n",
        "\n",
        "pass\n",
        "\n"
      ],
      "metadata": {
        "colab": {
          "base_uri": "https://localhost:8080/",
          "height": 314
        },
        "id": "AiX_1C5np0K_",
        "outputId": "69557348-b127-4dc1-b557-2c0fec440e46"
      },
      "execution_count": 5,
      "outputs": [
        {
          "output_type": "display_data",
          "data": {
            "text/plain": [
              "<Figure size 432x288 with 1 Axes>"
            ],
            "image/png": "[encoded data removed]"
          },
          "metadata": {
            "needs_background": "light"
          }
        }
      ]
    },
    {
      "cell_type": "code",
      "source": [
        "stats.pearsonr(sample[:,0], sample[:,1])\n",
        "?stats.pearsonr"
      ],
      "metadata": {
        "id": "SkGatedFqH9e"
      },
      "execution_count": 6,
      "outputs": []
    },
    {
      "cell_type": "code",
      "source": [
        "n = 50\n",
        "x = np.linspace(1,10,n) + stats.norm.rvs(size=n)\n",
        "y = x + stats.norm.rvs(loc=1, scale=1.5, size=n)\n",
        "plt.scatter(x,y)\n",
        "\n",
        "print(\"Pearson r: \", stats.pearsonr(x, y)[0])\n",
        "print(\"Spearman's rho: \", stats.spearmanr(x, y)[0])\n",
        "print(\"Kendall's tau: \", stats.kendalltau(x, y)[0])\n",
        "\n",
        "pass\n",
        "\n",
        "pollute_X = np.concatenate([x, stats.norm.rvs(loc=14, size=1), stats.norm.rvs(loc=-1, size=1)])\n",
        "pollute_Y = np.concatenate([y, stats.norm.rvs(loc=6, size=1), stats.norm.rvs(loc=8, size=1)])\n",
        "\n",
        "plt.scatter(pollute_X, pollute_Y)\n",
        "\n",
        "print(\"Pearson r: \", stats.pearsonr(pollute_X, pollute_Y)[0])\n",
        "print(\"Spearman's rho: \", stats.spearmanr(pollute_X,pollute_Y)[0])\n",
        "print(\"Kendall's tau: \", stats.kendalltau(pollute_X,pollute_Y)[0])"
      ],
      "metadata": {
        "colab": {
          "base_uri": "https://localhost:8080/",
          "height": 369
        },
        "id": "9O_JcqhVt6ji",
        "outputId": "3a9840bc-98c7-42f7-8d4f-721869304552"
      },
      "execution_count": 7,
      "outputs": [
        {
          "output_type": "stream",
          "name": "stdout",
          "text": [
            "Pearson r:  0.9118626002576455\n",
            "Spearman's rho:  0.903577430972389\n",
            "Kendall's tau:  0.746938775510204\n",
            "Pearson r:  0.7854846671330055\n",
            "Spearman's rho:  0.8206266541449672\n",
            "Kendall's tau:  0.6726998491704375\n"
          ]
        },
        {
          "output_type": "display_data",
          "data": {
            "text/plain": [
              "<Figure size 432x288 with 1 Axes>"
            ],
            "image/png": "[encoded data removed]"
          },
          "metadata": {
            "needs_background": "light"
          }
        }
      ]
    },
    {
      "cell_type": "markdown",
      "source": [
        "source: https://notebook.community/Bio204-class/bio204-notebooks/2016-04-11-Sampling-Distribution-Correlation-Coefficient"
      ],
      "metadata": {
        "id": "aJEoZIaquKZp"
      }
    }
  ]
}