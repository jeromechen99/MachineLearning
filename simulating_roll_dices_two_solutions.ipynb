{
  "nbformat": 4,
  "nbformat_minor": 0,
  "metadata": {
    "colab": {
      "provenance": [],
      "authorship_tag": "ABX9TyNhWFKxV++xVfhLuDXBjNk+",
      "include_colab_link": true
    },
    "kernelspec": {
      "name": "python3",
      "display_name": "Python 3"
    },
    "language_info": {
      "name": "python"
    }
  },
  "cells": [
    {
      "cell_type": "markdown",
      "metadata": {
        "id": "view-in-github",
        "colab_type": "text"
      },
      "source": [
        "<a href=\"https://colab.research.google.com/github/jeromechen99/MachineLearning/blob/master/simulating_roll_dices_two_solutions.ipynb\" target=\"_parent\"><img src=\"https://colab.research.google.com/assets/colab-badge.svg\" alt=\"Open In Colab\"/></a>"
      ]
    },
    {
      "cell_type": "code",
      "execution_count": null,
      "metadata": {
        "colab": {
          "base_uri": "https://localhost:8080/"
        },
        "id": "LIdAY9Iszptz",
        "outputId": "f4cce69a-b9ed-4f2c-b7e5-13bcf5020bde"
      },
      "outputs": [
        {
          "output_type": "stream",
          "name": "stdout",
          "text": [
            "Object `randint` not found.\n"
          ]
        }
      ],
      "source": [
        "import random\n",
        "def single_die():\n",
        "    \"\"\"Outcome of a single die roll\"\"\"\n",
        "    return random.randint(1,6)\n"
      ]
    },
    {
      "cell_type": "code",
      "source": [
        "for _ in range(50):\n",
        "    print(single_die(),end=' ')"
      ],
      "metadata": {
        "colab": {
          "base_uri": "https://localhost:8080/"
        },
        "id": "yFApTm4w0APT",
        "outputId": "95e5cbb8-c9d8-4122-99ca-c8ed3940c486"
      },
      "execution_count": null,
      "outputs": [
        {
          "output_type": "stream",
          "name": "stdout",
          "text": [
            "6 2 4 5 5 1 5 3 3 1 1 4 1 5 5 5 6 2 2 5 1 4 3 6 2 4 4 3 6 1 3 5 4 5 3 1 1 3 5 5 4 1 4 4 5 3 4 5 1 6 "
          ]
        }
      ]
    },
    {
      "cell_type": "code",
      "source": [
        "def dice_roll(dice_count):\n",
        "    \"\"\"Outcome of a rolling dice_count dice\n",
        "    \n",
        "    Args:\n",
        "        dice_count (int): number of dice to roll\n",
        "    \n",
        "    Returns:\n",
        "        int: sum of face values of dice\n",
        "        \n",
        "    \"\"\"\n",
        "    out = 0\n",
        "    for _ in range(dice_count):\n",
        "        out += single_die()\n",
        "    return out"
      ],
      "metadata": {
        "id": "cFxwd1l-0W4q"
      },
      "execution_count": null,
      "outputs": []
    },
    {
      "cell_type": "code",
      "source": [
        "for _ in range(10):\n",
        "    print(dice_roll(12), end=' ')"
      ],
      "metadata": {
        "colab": {
          "base_uri": "https://localhost:8080/"
        },
        "id": "_9K7M-me0XEa",
        "outputId": "e71ca15b-423c-4fbd-beb6-2f967acf222f"
      },
      "execution_count": null,
      "outputs": [
        {
          "output_type": "stream",
          "name": "stdout",
          "text": [
            "52 57 45 44 35 55 42 49 41 41 "
          ]
        }
      ]
    },
    {
      "cell_type": "code",
      "source": [
        "def dice_rolls(dice_count, rolls_count):\n",
        "    \"\"\"Return list of many dice rolls\n",
        "    \n",
        "    Args:\n",
        "        dice_count (int): number of dice to roll\n",
        "        rolls_count (int): number of rolls to do\n",
        "        \n",
        "    Returns:\n",
        "        list: list of dice roll values.\n",
        "        \n",
        "    \"\"\"\n",
        "    out = []\n",
        "    for _ in range(rolls_count):\n",
        "        out.append(dice_roll(dice_count))\n",
        "    return out\n",
        "\n",
        "print(dice_rolls(2,100))"
      ],
      "metadata": {
        "colab": {
          "base_uri": "https://localhost:8080/"
        },
        "id": "Q6Bn764905ci",
        "outputId": "9297bbcc-174d-43f7-d53e-2b666fda6df1"
      },
      "execution_count": null,
      "outputs": [
        {
          "output_type": "stream",
          "name": "stdout",
          "text": [
            "[2, 9, 7, 8, 8, 6, 7, 5, 11, 7, 7, 7, 8, 11, 6, 10, 5, 3, 5, 4, 7, 10, 7, 7, 6, 3, 6, 5, 11, 6, 7, 7, 5, 8, 7, 6, 9, 10, 7, 5, 7, 7, 7, 8, 12, 2, 7, 5, 7, 11, 7, 11, 6, 5, 9, 7, 4, 6, 2, 11, 11, 6, 2, 5, 3, 9, 7, 7, 4, 6, 11, 6, 10, 8, 7, 11, 5, 10, 9, 7, 10, 3, 4, 4, 5, 3, 5, 7, 5, 11, 5, 7, 8, 4, 8, 9, 3, 8, 9, 9]\n"
          ]
        }
      ]
    },
    {
      "cell_type": "code",
      "source": [
        "import pylab as plt\n",
        "%matplotlib inline\n",
        "\n",
        "plt.rcParams['figure.figsize'] = (10, 4)\n",
        "\n",
        "def dice_histogram(dice_count, rolls_count, bins):\n",
        "    \"\"\"Plots outcome of many dice rolls\n",
        "    \n",
        "    Args:\n",
        "        dice_count (int): number of dice to roll\n",
        "        rolls_count (int): number of rolls to do\n",
        "        bins (int): number of histogram bins\n",
        "        \n",
        "    \"\"\"\n",
        "    plt.hist(dice_rolls(dice_count, rolls_count),bins)\n",
        "    plt.show()\n",
        "    \n",
        "dice_histogram(2, 10000, 200)"
      ],
      "metadata": {
        "colab": {
          "base_uri": "https://localhost:8080/",
          "height": 265
        },
        "id": "UcQ6qISX1ELy",
        "outputId": "d0a557f3-5aeb-445c-cfec-40b028c9f0aa"
      },
      "execution_count": null,
      "outputs": [
        {
          "output_type": "display_data",
          "data": {
            "text/plain": [
              "<Figure size 720x288 with 1 Axes>"
            ],
            "image/png": "[encoded data removed]"
          },
          "metadata": {
            "needs_background": "light"
          }
        }
      ]
    },
    {
      "cell_type": "code",
      "source": [
        "import time\n",
        "start = time.time()\n",
        "\n",
        "dice_histogram(100, 100000, 200)\n",
        "\n",
        "print(time.time()-start, 'seconds')"
      ],
      "metadata": {
        "colab": {
          "base_uri": "https://localhost:8080/",
          "height": 284
        },
        "id": "43Ksa_Iv1ybp",
        "outputId": "579251c6-50d8-4c19-ec99-e61c6c683b61"
      },
      "execution_count": null,
      "outputs": [
        {
          "output_type": "display_data",
          "data": {
            "text/plain": [
              "<Figure size 720x288 with 1 Axes>"
            ],
            "image/png": "[encoded data removed]"
          },
          "metadata": {
            "needs_background": "light"
          }
        },
        {
          "output_type": "stream",
          "name": "stdout",
          "text": [
            "12.930852890014648 seconds\n"
          ]
        }
      ]
    },
    {
      "cell_type": "code",
      "source": [
        "import numpy as np\n",
        "np.random.randint(1,7,(2,10))\n",
        "np.sum(np.random.randint(1,7,(2,10)),axis=0)\n",
        "\n",
        "def dice_rolls_np(dice_count, rolls_count):\n",
        "    \"\"\"Return list of many dice rolls\n",
        "    \n",
        "    Args:\n",
        "        dice_count (int): number of dice to roll\n",
        "        rolls_count (int): number of rolls to do\n",
        "        \n",
        "    Returns:\n",
        "        np.array: list of dice roll values.\n",
        "        \n",
        "    \"\"\"\n",
        "    \n",
        "    return np.sum(\n",
        "        np.random.randint(1,7,(dice_count,rolls_count)),\n",
        "        axis=0)\n",
        "\n",
        "\n",
        "print(dice_rolls(2,100))\n",
        "\n",
        "def dice_histogram_np(dice_count, rolls_count, bins):\n",
        "    \"\"\"Plots outcome of many dice rolls\n",
        "    \n",
        "    Args:\n",
        "        dice_count (int): number of dice to roll\n",
        "        rolls_count (int): number of rolls to do\n",
        "        bins (int): number of histogram bins\n",
        "        \n",
        "    \"\"\"\n",
        "    plt.hist(dice_rolls_np(dice_count, rolls_count),bins)\n",
        "    plt.show()\n",
        "    \n",
        "start = time.time()\n",
        "\n",
        "dice_histogram_np(100, 10000, 200)\n",
        "\n",
        "print(time.time()-start, 'seconds')\n",
        "\n",
        "%timeit dice_rolls_np(100, 1000)\n",
        "%timeit dice_rolls(100, 1000)"
      ],
      "metadata": {
        "colab": {
          "base_uri": "https://localhost:8080/",
          "height": 354
        },
        "id": "LsC0C6Qh2WHp",
        "outputId": "a2a5cb90-44e6-42c2-c665-04f6589a7542"
      },
      "execution_count": null,
      "outputs": [
        {
          "output_type": "stream",
          "name": "stdout",
          "text": [
            "[12, 7, 8, 10, 3, 3, 4, 4, 6, 12, 5, 7, 8, 5, 6, 6, 7, 3, 9, 6, 8, 9, 7, 11, 7, 7, 7, 9, 9, 3, 12, 9, 6, 5, 4, 5, 7, 7, 4, 8, 10, 5, 10, 7, 9, 5, 11, 8, 3, 8, 7, 11, 8, 8, 4, 12, 7, 11, 7, 7, 7, 8, 10, 7, 9, 5, 8, 6, 5, 4, 7, 6, 9, 8, 2, 7, 6, 11, 6, 8, 4, 12, 8, 5, 8, 7, 5, 5, 6, 7, 12, 10, 7, 7, 5, 8, 8, 10, 3, 8]\n"
          ]
        },
        {
          "output_type": "display_data",
          "data": {
            "text/plain": [
              "<Figure size 720x288 with 1 Axes>"
            ],
            "image/png": "[encoded data removed]"
          },
          "metadata": {
            "needs_background": "light"
          }
        },
        {
          "output_type": "stream",
          "name": "stdout",
          "text": [
            "0.5116491317749023 seconds\n",
            "1.27 ms ± 8.68 µs per loop (mean ± std. dev. of 7 runs, 1000 loops each)\n",
            "145 ms ± 33.1 ms per loop (mean ± std. dev. of 7 runs, 10 loops each)\n"
          ]
        }
      ]
    },
    {
      "cell_type": "code",
      "source": [
        "def risk_battle():\n",
        "    \"\"\"Risk battle simulation\"\"\"\n",
        "    \n",
        "    # get array of three dice values\n",
        "    attacking_dice = np.random.randint(1,7,3)\n",
        "    \n",
        "    # get array of two dice values\n",
        "    defending_dice = np.random.randint(1,7,2)\n",
        "    \n",
        "    # sort both sets and take top two values\n",
        "    attacking_dice_sorted = np.sort(attacking_dice)[::-1]\n",
        "    defending_dice_sorted = np.sort(defending_dice)[::-1]\n",
        "    \n",
        "    # are the attacking values greater?\n",
        "    attack_wins = attacking_dice_sorted[:2] > defending_dice_sorted[:2]\n",
        "    \n",
        "    # convert boolean values to -1, +1\n",
        "    attack_wins_pm = attack_wins*2 - 1\n",
        "    \n",
        "    # sum up these outcomes\n",
        "    return np.sum(attack_wins_pm)\n",
        "    \n",
        "for _ in range(50):\n",
        "    print(risk_battle(), end=' ')\n",
        "outcomes = [risk_battle() for _ in range(10000)]\n",
        "plt.hist(outcomes)\n",
        "plt.show()\n",
        "\n",
        "np.mean([risk_battle() for _ in range(10000)])"
      ],
      "metadata": {
        "colab": {
          "base_uri": "https://localhost:8080/",
          "height": 300
        },
        "id": "xfiexpAY3Gdg",
        "outputId": "4da2c35a-7721-4633-b9fd-aa7ed42b58a3"
      },
      "execution_count": null,
      "outputs": [
        {
          "output_type": "stream",
          "name": "stdout",
          "text": [
            "0 -2 2 0 0 0 2 -2 -2 0 0 0 2 0 -2 -2 2 -2 2 2 2 2 -2 2 -2 0 2 2 -2 -2 -2 -2 0 2 2 2 2 -2 0 0 0 2 0 0 2 -2 2 2 -2 0 "
          ]
        },
        {
          "output_type": "display_data",
          "data": {
            "text/plain": [
              "<Figure size 720x288 with 1 Axes>"
            ],
            "image/png": "[encoded data removed]"
          },
          "metadata": {
            "needs_background": "light"
          }
        },
        {
          "output_type": "execute_result",
          "data": {
            "text/plain": [
              "0.1704"
            ]
          },
          "metadata": {},
          "execution_count": 18
        }
      ]
    },
    {
      "cell_type": "markdown",
      "source": [
        "source: https://notebook.community/gte620v/PythonTutorialWithJupyter/exercises/solutions/Ex1-Dice_Simulation_solutions"
      ],
      "metadata": {
        "id": "psDlxlkC6VMd"
      }
    }
  ]
}